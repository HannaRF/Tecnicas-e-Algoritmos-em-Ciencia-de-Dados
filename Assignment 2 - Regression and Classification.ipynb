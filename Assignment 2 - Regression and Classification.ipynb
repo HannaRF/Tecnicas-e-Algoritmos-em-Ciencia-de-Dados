{
  "cells": [
    {
      "cell_type": "code",
      "execution_count": 326,
      "id": "dd71f212-b8dc-4f83-a4c9-4b2a5b7e8625",
      "metadata": {
        "tags": [],
        "colab": {
          "base_uri": "https://localhost:8080/"
        },
        "id": "dd71f212-b8dc-4f83-a4c9-4b2a5b7e8625",
        "outputId": "d73aad4e-2ab7-4313-e6b1-8fcac80efbf9"
      },
      "outputs": [
        {
          "output_type": "execute_result",
          "data": {
            "text/plain": [
              "811313"
            ]
          },
          "metadata": {},
          "execution_count": 326
        }
      ],
      "source": [
        "# Place here the same 6-digit number you selected for the first coursework. \n",
        "# Make sure that you keep a copy of this number and avoid trivial numbers, such as 000000 or 123456 -- thank you!\n",
        "811313"
      ]
    },
    {
      "cell_type": "markdown",
      "id": "d05468eb-e9d9-44b3-80f7-d1e1dc7296b1",
      "metadata": {
        "tags": [],
        "id": "d05468eb-e9d9-44b3-80f7-d1e1dc7296b1"
      },
      "source": [
        "# Assignment 2 - Regression and Classification\n",
        "\n",
        "Second assessed coursework for the course: Técnicas e Algoritmos em Ciência de Dados\n",
        "\n",
        "This coursework aims to provide students with a comprehensive understanding of linear regression with polynomial basis functions and classification with K-nearest neighbours. Specifically, students will learn about key concepts related to the model's generalisation ability by changing the degree of the polynomial and the size of the dataset. In the second part of the coursework, students will delve into classification using the K-nearest neighbours algorithm. Finally, students will be introduced to the concept of using a validation set to select the optimal value of $K$ for their classification model. By the end of this coursework, students will have gained a solid understanding of these key concepts and be equipped with the skills to apply them in practical scenarios.\n",
        "\n",
        "## General guidelines:\n",
        "\n",
        "* This work must be entirely original. You are allowed to research documentation for specific libraries, but copying solutions from the internet or your classmates is strictly prohibited. Any such actions will result in a deduction of points for the coursework.\n",
        "* Please enter your code in the designated areas of the notebook. You can create additional code cells to experiment with, but __make sure to place your final solutions where they are requested in the notebook.__\n",
        "* Before submitting your work, make sure to rename the file to the random number that you created for the previous coursework (for example, 289479.ipynb).\n",
        "\n",
        "## Notebook Overview:\n",
        "\n",
        "1. [Polynomial Fitting Visualisation](#Polynomial-Fitting-Visualisation) (50%)\n",
        "2. [Classification with KNN](#Classification-with-KNN) (50%)"
      ]
    },
    {
      "cell_type": "code",
      "execution_count": 327,
      "id": "5bbccb7a-e176-497e-afe5-107d94f6ccf9",
      "metadata": {
        "tags": [],
        "id": "5bbccb7a-e176-497e-afe5-107d94f6ccf9"
      },
      "outputs": [],
      "source": [
        "%matplotlib inline\n",
        "import pandas as pd\n",
        "import numpy as np\n",
        "import matplotlib.pyplot as plt\n",
        "import seaborn as sns\n",
        "from sklearn.metrics import mean_squared_error\n",
        "from sklearn.model_selection import train_test_split\n",
        "import pickle as pkl\n",
        "from sklearn.datasets import load_digits"
      ]
    },
    {
      "cell_type": "markdown",
      "id": "0e1e05a8-860b-45c1-9e23-1e2ae348d7ee",
      "metadata": {
        "id": "0e1e05a8-860b-45c1-9e23-1e2ae348d7ee"
      },
      "source": [
        "# Polynomial Fitting Visualisation\n",
        "In this exercise you will explore the effect that the degree of the polynomial and the size of the training data has on the model's performance and generalisation ability.\n",
        "\n",
        "1. Generate a 2D dataset of 15 points $(x_i,y_i)$ for $i=1..15$ using a sine wave perturbed by a small gaussian noise --- this is very similar to what you did in the lab.\n",
        "    - The $x_i$ should be equally spaced in the $[0-10]$ interval \n",
        "    - Use: $y_i = 4*sin(x_i) + \\epsilon$, where $\\epsilon$ is gaussian noise (with $\\mu=0$ and $\\sigma=1$).\n",
        "    - To ensure reproducibility of your results, use (provided below): \n",
        "    `rng = np.random.default_rng(13)` and\n",
        "    `random_state = np.random.RandomState(13)`\n",
        "    \n",
        "2. Split the points randomly into a training and testing sets of size 10 and 5, respectively.\n",
        "    \n",
        "3. Learn the weights of the linear regression for  polynomial models of degree $M$ for $M = 0..9$ . For each value of $M$ calculate the Root Mean Squared Error (RMSE) for the training and testing sets and plot these values against $M$. Your figure should be similar to Figure 1 from the Coursework document.\n",
        "\n",
        "4. In the last part of this exercise, you will have to create more points for training (using the same sine wave perturbed by a small gaussian noise as described in point 1). For testing, you will continue to use the same 5 points you used in points 1 to 3. Learn the weights of the linear regression for  polynomial models of degree $M=9$ for training sets of size $N$ with $N=10:500:10$ (that is, from $N=10$ to $N=500$ in steps of $10$). For each value of $N$ calculate the Root Mean Squared Error (RMSE) for the training and testing sets and plot these values against $N$. Your figure should be similar to Figure 2 from the Coursework document.\n",
        "\n",
        "* Note that for parts 3 and 4 you are supposed to write your code from scratch and you cannot use existing functions such as `PolynomialFeatures`, `LinearRegression` or `mean_squared_error`.\n",
        "* _Observation: in this exercise we are not using the validation set because our goal is not to choose a specific model but rather to analyse the behaviour of the family of models._"
      ]
    },
    {
      "cell_type": "markdown",
      "id": "8da4fed1-c4ad-4b5d-914b-0debae29f1b6",
      "metadata": {
        "id": "8da4fed1-c4ad-4b5d-914b-0debae29f1b6"
      },
      "source": [
        "### Generate the data"
      ]
    },
    {
      "cell_type": "code",
      "execution_count": 328,
      "id": "748c64e9-3c3e-4e25-88d5-ac8943bc4671",
      "metadata": {
        "id": "748c64e9-3c3e-4e25-88d5-ac8943bc4671"
      },
      "outputs": [],
      "source": [
        "rng = np.random.default_rng(13)\n",
        "random_state = np.random.RandomState(13)"
      ]
    },
    {
      "cell_type": "code",
      "execution_count": 329,
      "id": "11f869dc-1b96-4aaa-b2d9-d2ad0c709d84",
      "metadata": {
        "tags": [],
        "id": "11f869dc-1b96-4aaa-b2d9-d2ad0c709d84"
      },
      "outputs": [],
      "source": [
        "# your code goes here:\n",
        "\n",
        "noise = np.random.normal(size = 15)\n",
        "x = np.linspace(1,10,15)\n",
        "y = 4*np.sin(x) + noise"
      ]
    },
    {
      "cell_type": "markdown",
      "id": "51c1ce30-85ed-4c2b-8a16-0b9b3a5096b4",
      "metadata": {
        "id": "51c1ce30-85ed-4c2b-8a16-0b9b3a5096b4"
      },
      "source": [
        "### Split the points into training and testing\n",
        "Feel free to use `train_test_split(x, y, test_size = ?, random_state = random_state)`, remember to calculate the right proportion for the `test_size` so that you end up with 5 points in the testing set."
      ]
    },
    {
      "cell_type": "code",
      "execution_count": 330,
      "id": "756d1c8f-c2b9-453b-99e2-4d556e8a60a2",
      "metadata": {
        "id": "756d1c8f-c2b9-453b-99e2-4d556e8a60a2"
      },
      "outputs": [],
      "source": [
        "# your code goes here:\n",
        "\n",
        "X_train, X_test, y_train, y_test = train_test_split(x, y, train_size=0.7)"
      ]
    },
    {
      "cell_type": "markdown",
      "id": "ca6597f4-0af5-4fa7-929b-4f3f8b02c61c",
      "metadata": {
        "id": "ca6597f4-0af5-4fa7-929b-4f3f8b02c61c"
      },
      "source": [
        "### Degree vs. RMSE\n",
        "Generate the plot (as in __Figure 1__) of the RMSE during training and testing at different values of of the polynomial degree $M$."
      ]
    },
    {
      "cell_type": "code",
      "execution_count": 331,
      "id": "4d86279b-109e-4ff0-9f32-6f8c0a1b5f81",
      "metadata": {
        "id": "4d86279b-109e-4ff0-9f32-6f8c0a1b5f81",
        "colab": {
          "base_uri": "https://localhost:8080/",
          "height": 449
        },
        "outputId": "d49a1c78-bd05-4392-80d8-27d40405d50d"
      },
      "outputs": [
        {
          "output_type": "display_data",
          "data": {
            "text/plain": [
              "<Figure size 640x480 with 1 Axes>"
            ],
            "image/png": "[encoded data removed]"
          },
          "metadata": {}
        }
      ],
      "source": [
        "# your code goes here:\n",
        "\n",
        "def poly(X_train,y_train,X_test,M):\n",
        "\n",
        "  # train\n",
        "\n",
        "  design_train = np.array([X_train**i for i in range(M+1)]).transpose()\n",
        "  y_train = y_train.reshape([-1,1])\n",
        "\n",
        "  w =  np.linalg.inv(design_train.transpose() @ design_train) @ design_train.transpose() @ y_train\n",
        "\n",
        "  # fit\n",
        "\n",
        "  design_test = np.array([X_test**i for i in range(M+1)])#.transpose()\n",
        "  w = w.reshape([1,-1])\n",
        "\n",
        "  y_pred = w @ design_test\n",
        "\n",
        "  return y_pred\n",
        "\n",
        "\n",
        "RMSE_train, RMSE_test = [], []\n",
        "\n",
        "for M in range(10):\n",
        "\n",
        "  y_pred = poly(X_train, y_train, X_train, M)\n",
        "\n",
        "  RMSE = np.sqrt(np.sum((y_train - y_pred)**2/len(y_pred)))\n",
        "  RMSE_train.append(RMSE)\n",
        "\n",
        "  y_pred = poly(X_train, y_train, X_test, M)\n",
        "\n",
        "  RMSE = np.sqrt(np.sum((y_test - y_pred)**2/len(y_pred)))\n",
        "  RMSE_test.append(RMSE)\n",
        "\n",
        "plt.plot(range(10),RMSE_train,label = 'training')\n",
        "plt.plot(range(10),RMSE_test,label = 'testing')\n",
        "\n",
        "plt.xlabel(\"degree\")\n",
        "plt.ylabel(\"RMSE\")\n",
        "plt.legend()\n",
        "plt.show()"
      ]
    },
    {
      "cell_type": "markdown",
      "id": "395409e1-7280-4420-88ed-2fc635b914d0",
      "metadata": {
        "id": "395409e1-7280-4420-88ed-2fc635b914d0"
      },
      "source": [
        "### Training set size vs. RMSE\n",
        "Generate the plot (as in __Figure 2__) of the RMSE during training and testing at different training set sizes $N$."
      ]
    },
    {
      "cell_type": "code",
      "execution_count": 332,
      "id": "bc515bf6-c077-49c0-928d-a1300f3967e2",
      "metadata": {
        "id": "bc515bf6-c077-49c0-928d-a1300f3967e2",
        "colab": {
          "base_uri": "https://localhost:8080/",
          "height": 696
        },
        "outputId": "fe35ff04-8531-4481-de9f-6edc6ad0c1de"
      },
      "outputs": [
        {
          "output_type": "display_data",
          "data": {
            "text/plain": [
              "<Figure size 800x800 with 1 Axes>"
            ],
            "image/png": "[encoded data removed]"
          },
          "metadata": {}
        }
      ],
      "source": [
        "# your code goes here:\n",
        "\n",
        "RMSE_train, RMSE_test = [], []\n",
        "\n",
        "for N in range(10,510,10):\n",
        "\n",
        "  noise = np.random.normal(size = N+5)\n",
        "  x = np.linspace(1,10,N+5)\n",
        "  y = 4*np.sin(x) + noise\n",
        "\n",
        "  X_train, X_test, y_train, y_test = train_test_split(x, y, test_size=int(5))\n",
        "\n",
        "  y_pred = poly(X_train,y_train,X_train,M=9)\n",
        "\n",
        "  RMSE = np.sqrt(np.sum((y_train - y_pred)**2/len(y_pred)))\n",
        "  RMSE_train.append(RMSE)\n",
        "\n",
        "  y_pred = poly(X_train,y_train,X_test,M=9)\n",
        "\n",
        "  RMSE = np.sqrt(np.sum((y_test - y_pred)**2/len(y_pred)))\n",
        "  RMSE_test.append(RMSE)\n",
        "\n",
        "fig = plt.figure(figsize=(8,8))\n",
        "plt.plot(range(10,510,10),RMSE_train,label = 'training')\n",
        "plt.plot(range(10,510,10),RMSE_test,label = 'testing')\n",
        "\n",
        "plt.xlabel(\"training size\")\n",
        "plt.ylabel(\"RMSE\")\n",
        "plt.xlim(10, 500)\n",
        "plt.legend()\n",
        "plt.show()"
      ]
    },
    {
      "cell_type": "markdown",
      "id": "b6315547-1273-42ae-973a-0825c2312804",
      "metadata": {
        "id": "b6315547-1273-42ae-973a-0825c2312804"
      },
      "source": [
        "# Classification with KNN\n",
        "In this exercise you will implement the K-nearest neighbours (K-NN) algorithm for binary classification without using any Python libraries such as scikit-learn. Use it to classify the Ionosphere dataset. You will also need to determine the optimal value of $K$ using the F1-score on a validation set and report the test set performance based on the F1-score.\n",
        "\n",
        "Dataset: The Ionosphere dataset contains radar data collected from a radar system in Goose Bay, Canada. The dataset contains 351 observations, with 34 attributes each. The last column represents the class, which is either \"good\" (1) or \"bad\" (0).\n",
        "\n",
        "Specifically:\n",
        "1. Load the Ionosphere dataset into a data frame and split it into a training set ($80\\%$), a validation set ($10\\%$), and a testing set ($10\\%$).\n",
        "    \n",
        "2. You will write code that implements the K-NN algorithm for binary classification. Use Euclidean distance as the distance metric.\n",
        "    - _Obs: it is better if you take only odd values of K, considering you are predicting the class based on the majority of the neighbours._\n",
        "\n",
        "\n",
        "3. Use the K-NN algorithm on the training set for a range of values of $K$ and evaluate its performance on the validation set using the F1-score. Plot the F1-score on the validation set against the range of values that were tried for $K$. Your plot should look like Figure 3. Choose the value of $K$ that gives the best F1-score.\n",
        "    - You will also have to implement the F1-score from scratch.\n",
        "\n",
        "\n",
        "4. Report the F1-score of the K-NN algorithm on the test set using the selected value of $K$.\n",
        "\n",
        "\n",
        "* __Note:__ You are not allowed to use any Python libraries such as scikit-learn to implement the K-NN algorithm or to calculate distances. You may use numpy or other basic libraries for matrix operations.\n",
        "\n",
        "* As a reminder, the F1-score is calculated as follows: $F1 = 2 \\times \\frac{precision \\times recall}{precision + recall}$ or $F1 = \\frac{TP}{TP + \\frac{1}{2} (FP + FN)}$\n",
        "    \n",
        "    "
      ]
    },
    {
      "cell_type": "markdown",
      "id": "a08168d9-c8d3-496c-b24e-3c6aa92cc406",
      "metadata": {
        "id": "a08168d9-c8d3-496c-b24e-3c6aa92cc406"
      },
      "source": [
        "### Preparing the dataset"
      ]
    },
    {
      "cell_type": "markdown",
      "id": "f3644c7b-3b33-4595-b49c-29b9a53ca088",
      "metadata": {
        "id": "f3644c7b-3b33-4595-b49c-29b9a53ca088"
      },
      "source": [
        "Load the dataset into a pandas `DataFrame`, split the features from the target variable, and generate the training, validation and testing sets."
      ]
    },
    {
      "cell_type": "code",
      "execution_count": null,
      "id": "836ed810-8ac1-4781-b4b7-ac9d46762ab6",
      "metadata": {
        "tags": [],
        "id": "836ed810-8ac1-4781-b4b7-ac9d46762ab6"
      },
      "outputs": [],
      "source": [
        "iono_df = pd.read_csv('ionosphere_data_cleaned.csv')"
      ]
    },
    {
      "cell_type": "markdown",
      "id": "c0aec99a-7224-4d05-a4f3-23259d621b88",
      "metadata": {
        "id": "c0aec99a-7224-4d05-a4f3-23259d621b88"
      },
      "source": [
        "Let's inspect the dataset. There are 34 features and one target column"
      ]
    },
    {
      "cell_type": "code",
      "execution_count": null,
      "id": "ec8beb33-b369-4fd7-a8f9-2eaa9e2ba92f",
      "metadata": {
        "tags": [],
        "id": "ec8beb33-b369-4fd7-a8f9-2eaa9e2ba92f",
        "outputId": "55b13017-64ca-4425-9c94-a47086494b85",
        "colab": {
          "base_uri": "https://localhost:8080/",
          "height": 299
        }
      },
      "outputs": [
        {
          "output_type": "execute_result",
          "data": {
            "text/plain": [
              "   column_a  column_b  column_c  column_d  column_e  column_f  column_g  \\\n",
              "0       1.0       0.0   0.99539  -0.05889   0.85243   0.02306   0.83398   \n",
              "1       1.0       0.0   1.00000  -0.18829   0.93035  -0.36156  -0.10868   \n",
              "2       1.0       0.0   1.00000  -0.03365   1.00000   0.00485   1.00000   \n",
              "3       1.0       0.0   1.00000  -0.45161   1.00000   1.00000   0.71216   \n",
              "4       1.0       0.0   1.00000  -0.02401   0.94140   0.06531   0.92106   \n",
              "\n",
              "   column_h  column_i  column_j  ...  column_z  column_aa  column_ab  \\\n",
              "0  -0.37708   1.00000   0.03760  ...  -0.51171    0.41078   -0.46168   \n",
              "1  -0.93597   1.00000  -0.04549  ...  -0.26569   -0.20468   -0.18401   \n",
              "2  -0.12062   0.88965   0.01198  ...  -0.40220    0.58984   -0.22145   \n",
              "3  -1.00000   0.00000   0.00000  ...   0.90695    0.51613    1.00000   \n",
              "4  -0.23255   0.77152  -0.16399  ...  -0.65158    0.13290   -0.53206   \n",
              "\n",
              "   column_ac  column_ad  column_ae  column_af  column_ag  column_ah  label  \n",
              "0    0.21266   -0.34090    0.42267   -0.54487    0.18641   -0.45300      1  \n",
              "1   -0.19040   -0.11593   -0.16626   -0.06288   -0.13738   -0.02447      0  \n",
              "2    0.43100   -0.17365    0.60436   -0.24180    0.56045   -0.38238      1  \n",
              "3    1.00000   -0.20099    0.25682    1.00000   -0.32382    1.00000      0  \n",
              "4    0.02431   -0.62197   -0.05707   -0.59573   -0.04608   -0.65697      1  \n",
              "\n",
              "[5 rows x 35 columns]"
            ],
            "text/html": [
              "\n",
              "  <div id=\"df-36d95e00-d43c-473c-85e0-216fbf52a67f\">\n",
              "    <div class=\"colab-df-container\">\n",
              "      <div>\n",
              "<style scoped>\n",
              "    .dataframe tbody tr th:only-of-type {\n",
              "        vertical-align: middle;\n",
              "    }\n",
              "\n",
              "    .dataframe tbody tr th {\n",
              "        vertical-align: top;\n",
              "    }\n",
              "\n",
              "    .dataframe thead th {\n",
              "        text-align: right;\n",
              "    }\n",
              "</style>\n",
              "<table border=\"1\" class=\"dataframe\">\n",
              "  <thead>\n",
              "    <tr style=\"text-align: right;\">\n",
              "      <th></th>\n",
              "      <th>column_a</th>\n",
              "      <th>column_b</th>\n",
              "      <th>column_c</th>\n",
              "      <th>column_d</th>\n",
              "      <th>column_e</th>\n",
              "      <th>column_f</th>\n",
              "      <th>column_g</th>\n",
              "      <th>column_h</th>\n",
              "      <th>column_i</th>\n",
              "      <th>column_j</th>\n",
              "      <th>...</th>\n",
              "      <th>column_z</th>\n",
              "      <th>column_aa</th>\n",
              "      <th>column_ab</th>\n",
              "      <th>column_ac</th>\n",
              "      <th>column_ad</th>\n",
              "      <th>column_ae</th>\n",
              "      <th>column_af</th>\n",
              "      <th>column_ag</th>\n",
              "      <th>column_ah</th>\n",
              "      <th>label</th>\n",
              "    </tr>\n",
              "  </thead>\n",
              "  <tbody>\n",
              "    <tr>\n",
              "      <th>0</th>\n",
              "      <td>1.0</td>\n",
              "      <td>0.0</td>\n",
              "      <td>0.99539</td>\n",
              "      <td>-0.05889</td>\n",
              "      <td>0.85243</td>\n",
              "      <td>0.02306</td>\n",
              "      <td>0.83398</td>\n",
              "      <td>-0.37708</td>\n",
              "      <td>1.00000</td>\n",
              "      <td>0.03760</td>\n",
              "      <td>...</td>\n",
              "      <td>-0.51171</td>\n",
              "      <td>0.41078</td>\n",
              "      <td>-0.46168</td>\n",
              "      <td>0.21266</td>\n",
              "      <td>-0.34090</td>\n",
              "      <td>0.42267</td>\n",
              "      <td>-0.54487</td>\n",
              "      <td>0.18641</td>\n",
              "      <td>-0.45300</td>\n",
              "      <td>1</td>\n",
              "    </tr>\n",
              "    <tr>\n",
              "      <th>1</th>\n",
              "      <td>1.0</td>\n",
              "      <td>0.0</td>\n",
              "      <td>1.00000</td>\n",
              "      <td>-0.18829</td>\n",
              "      <td>0.93035</td>\n",
              "      <td>-0.36156</td>\n",
              "      <td>-0.10868</td>\n",
              "      <td>-0.93597</td>\n",
              "      <td>1.00000</td>\n",
              "      <td>-0.04549</td>\n",
              "      <td>...</td>\n",
              "      <td>-0.26569</td>\n",
              "      <td>-0.20468</td>\n",
              "      <td>-0.18401</td>\n",
              "      <td>-0.19040</td>\n",
              "      <td>-0.11593</td>\n",
              "      <td>-0.16626</td>\n",
              "      <td>-0.06288</td>\n",
              "      <td>-0.13738</td>\n",
              "      <td>-0.02447</td>\n",
              "      <td>0</td>\n",
              "    </tr>\n",
              "    <tr>\n",
              "      <th>2</th>\n",
              "      <td>1.0</td>\n",
              "      <td>0.0</td>\n",
              "      <td>1.00000</td>\n",
              "      <td>-0.03365</td>\n",
              "      <td>1.00000</td>\n",
              "      <td>0.00485</td>\n",
              "      <td>1.00000</td>\n",
              "      <td>-0.12062</td>\n",
              "      <td>0.88965</td>\n",
              "      <td>0.01198</td>\n",
              "      <td>...</td>\n",
              "      <td>-0.40220</td>\n",
              "      <td>0.58984</td>\n",
              "      <td>-0.22145</td>\n",
              "      <td>0.43100</td>\n",
              "      <td>-0.17365</td>\n",
              "      <td>0.60436</td>\n",
              "      <td>-0.24180</td>\n",
              "      <td>0.56045</td>\n",
              "      <td>-0.38238</td>\n",
              "      <td>1</td>\n",
              "    </tr>\n",
              "    <tr>\n",
              "      <th>3</th>\n",
              "      <td>1.0</td>\n",
              "      <td>0.0</td>\n",
              "      <td>1.00000</td>\n",
              "      <td>-0.45161</td>\n",
              "      <td>1.00000</td>\n",
              "      <td>1.00000</td>\n",
              "      <td>0.71216</td>\n",
              "      <td>-1.00000</td>\n",
              "      <td>0.00000</td>\n",
              "      <td>0.00000</td>\n",
              "      <td>...</td>\n",
              "      <td>0.90695</td>\n",
              "      <td>0.51613</td>\n",
              "      <td>1.00000</td>\n",
              "      <td>1.00000</td>\n",
              "      <td>-0.20099</td>\n",
              "      <td>0.25682</td>\n",
              "      <td>1.00000</td>\n",
              "      <td>-0.32382</td>\n",
              "      <td>1.00000</td>\n",
              "      <td>0</td>\n",
              "    </tr>\n",
              "    <tr>\n",
              "      <th>4</th>\n",
              "      <td>1.0</td>\n",
              "      <td>0.0</td>\n",
              "      <td>1.00000</td>\n",
              "      <td>-0.02401</td>\n",
              "      <td>0.94140</td>\n",
              "      <td>0.06531</td>\n",
              "      <td>0.92106</td>\n",
              "      <td>-0.23255</td>\n",
              "      <td>0.77152</td>\n",
              "      <td>-0.16399</td>\n",
              "      <td>...</td>\n",
              "      <td>-0.65158</td>\n",
              "      <td>0.13290</td>\n",
              "      <td>-0.53206</td>\n",
              "      <td>0.02431</td>\n",
              "      <td>-0.62197</td>\n",
              "      <td>-0.05707</td>\n",
              "      <td>-0.59573</td>\n",
              "      <td>-0.04608</td>\n",
              "      <td>-0.65697</td>\n",
              "      <td>1</td>\n",
              "    </tr>\n",
              "  </tbody>\n",
              "</table>\n",
              "<p>5 rows × 35 columns</p>\n",
              "</div>\n",
              "      <button class=\"colab-df-convert\" onclick=\"convertToInteractive('df-36d95e00-d43c-473c-85e0-216fbf52a67f')\"\n",
              "              title=\"Convert this dataframe to an interactive table.\"\n",
              "              style=\"display:none;\">\n",
              "        \n",
              "  <svg xmlns=\"http://www.w3.org/2000/svg\" height=\"24px\"viewBox=\"0 0 24 24\"\n",
              "       width=\"24px\">\n",
              "    <path d=\"M0 0h24v24H0V0z\" fill=\"none\"/>\n",
              "    <path d=\"M18.56 5.44l.94 2.06.94-2.06 2.06-.94-2.06-.94-.94-2.06-.94 2.06-2.06.94zm-11 1L8.5 8.5l.94-2.06 2.06-.94-2.06-.94L8.5 2.5l-.94 2.06-2.06.94zm10 10l.94 2.06.94-2.06 2.06-.94-2.06-.94-.94-2.06-.94 2.06-2.06.94z\"/><path d=\"M17.41 7.96l-1.37-1.37c-.4-.4-.92-.59-1.43-.59-.52 0-1.04.2-1.43.59L10.3 9.45l-7.72 7.72c-.78.78-.78 2.05 0 2.83L4 21.41c.39.39.9.59 1.41.59.51 0 1.02-.2 1.41-.59l7.78-7.78 2.81-2.81c.8-.78.8-2.07 0-2.86zM5.41 20L4 18.59l7.72-7.72 1.47 1.35L5.41 20z\"/>\n",
              "  </svg>\n",
              "      </button>\n",
              "      \n",
              "  <style>\n",
              "    .colab-df-container {\n",
              "      display:flex;\n",
              "      flex-wrap:wrap;\n",
              "      gap: 12px;\n",
              "    }\n",
              "\n",
              "    .colab-df-convert {\n",
              "      background-color: #E8F0FE;\n",
              "      border: none;\n",
              "      border-radius: 50%;\n",
              "      cursor: pointer;\n",
              "      display: none;\n",
              "      fill: #1967D2;\n",
              "      height: 32px;\n",
              "      padding: 0 0 0 0;\n",
              "      width: 32px;\n",
              "    }\n",
              "\n",
              "    .colab-df-convert:hover {\n",
              "      background-color: #E2EBFA;\n",
              "      box-shadow: 0px 1px 2px rgba(60, 64, 67, 0.3), 0px 1px 3px 1px rgba(60, 64, 67, 0.15);\n",
              "      fill: #174EA6;\n",
              "    }\n",
              "\n",
              "    [theme=dark] .colab-df-convert {\n",
              "      background-color: #3B4455;\n",
              "      fill: #D2E3FC;\n",
              "    }\n",
              "\n",
              "    [theme=dark] .colab-df-convert:hover {\n",
              "      background-color: #434B5C;\n",
              "      box-shadow: 0px 1px 3px 1px rgba(0, 0, 0, 0.15);\n",
              "      filter: drop-shadow(0px 1px 2px rgba(0, 0, 0, 0.3));\n",
              "      fill: #FFFFFF;\n",
              "    }\n",
              "  </style>\n",
              "\n",
              "      <script>\n",
              "        const buttonEl =\n",
              "          document.querySelector('#df-36d95e00-d43c-473c-85e0-216fbf52a67f button.colab-df-convert');\n",
              "        buttonEl.style.display =\n",
              "          google.colab.kernel.accessAllowed ? 'block' : 'none';\n",
              "\n",
              "        async function convertToInteractive(key) {\n",
              "          const element = document.querySelector('#df-36d95e00-d43c-473c-85e0-216fbf52a67f');\n",
              "          const dataTable =\n",
              "            await google.colab.kernel.invokeFunction('convertToInteractive',\n",
              "                                                     [key], {});\n",
              "          if (!dataTable) return;\n",
              "\n",
              "          const docLinkHtml = 'Like what you see? Visit the ' +\n",
              "            '<a target=\"_blank\" href=https://colab.research.google.com/notebooks/data_table.ipynb>data table notebook</a>'\n",
              "            + ' to learn more about interactive tables.';\n",
              "          element.innerHTML = '';\n",
              "          dataTable['output_type'] = 'display_data';\n",
              "          await google.colab.output.renderOutput(dataTable, element);\n",
              "          const docLink = document.createElement('div');\n",
              "          docLink.innerHTML = docLinkHtml;\n",
              "          element.appendChild(docLink);\n",
              "        }\n",
              "      </script>\n",
              "    </div>\n",
              "  </div>\n",
              "  "
            ]
          },
          "metadata": {},
          "execution_count": 248
        }
      ],
      "source": [
        "iono_df.head()"
      ]
    },
    {
      "cell_type": "markdown",
      "id": "780db93b-1cb3-4b48-8c3a-4980acb0d403",
      "metadata": {
        "id": "780db93b-1cb3-4b48-8c3a-4980acb0d403"
      },
      "source": [
        "We can inspect the class distribution by using `value_counts()` on the target column"
      ]
    },
    {
      "cell_type": "code",
      "execution_count": null,
      "id": "d45c38ad-e30c-4f0a-823e-aa8f89eec215",
      "metadata": {
        "tags": [],
        "id": "d45c38ad-e30c-4f0a-823e-aa8f89eec215",
        "outputId": "ba923c66-3b6b-4118-8c4b-41e40da5e2d3",
        "colab": {
          "base_uri": "https://localhost:8080/"
        }
      },
      "outputs": [
        {
          "output_type": "execute_result",
          "data": {
            "text/plain": [
              "1    225\n",
              "0    126\n",
              "Name: label, dtype: int64"
            ]
          },
          "metadata": {},
          "execution_count": 249
        }
      ],
      "source": [
        "iono_df.label.value_counts()"
      ]
    },
    {
      "cell_type": "markdown",
      "id": "96457fef-33a8-4ac7-8254-2559ee8d9d89",
      "metadata": {
        "id": "96457fef-33a8-4ac7-8254-2559ee8d9d89"
      },
      "source": [
        "Let's separate our features from our target column"
      ]
    },
    {
      "cell_type": "code",
      "execution_count": null,
      "id": "61f8b701-9d51-4545-804c-966ceb0929f3",
      "metadata": {
        "tags": [],
        "id": "61f8b701-9d51-4545-804c-966ceb0929f3"
      },
      "outputs": [],
      "source": [
        "X_io = iono_df.values[:, :-1]\n",
        "y_io = iono_df.values[:, -1]"
      ]
    },
    {
      "cell_type": "markdown",
      "id": "5268baac-164d-4c23-92d2-fa5eeffca5bb",
      "metadata": {
        "id": "5268baac-164d-4c23-92d2-fa5eeffca5bb"
      },
      "source": [
        "Now you will write code to split the data into training ($80\\%$), validation ($10\\%$), and testing ($10\\%$). \n",
        "\n",
        "You can use `train_test_split()` but make sure to calculate the right proportions and remember that this only returns 2 different sets, not 3."
      ]
    },
    {
      "cell_type": "code",
      "execution_count": null,
      "id": "92a12994-bbac-4ba3-b115-0de949b87231",
      "metadata": {
        "tags": [],
        "id": "92a12994-bbac-4ba3-b115-0de949b87231"
      },
      "outputs": [],
      "source": [
        "# set the random_state for reproducibilty of your results\n",
        "random_state = 42"
      ]
    },
    {
      "cell_type": "code",
      "execution_count": null,
      "id": "40f9fff4-e811-41a0-940b-1539a002c3d5",
      "metadata": {
        "id": "40f9fff4-e811-41a0-940b-1539a002c3d5"
      },
      "outputs": [],
      "source": [
        "# your code goes here:\n",
        "\n",
        "X_train, X_aux, y_train, y_aux = train_test_split(X_io, y_io, train_size=0.8)\n",
        "\n",
        "X_test, X_validation, y_test, y_validation = train_test_split(X_aux, y_aux, test_size=0.5)"
      ]
    },
    {
      "cell_type": "markdown",
      "id": "c36e0e12-6f05-415e-9736-e980667818c3",
      "metadata": {
        "id": "c36e0e12-6f05-415e-9736-e980667818c3"
      },
      "source": [
        "### Here you will implement the KNN algorithm using the euclidean distance"
      ]
    },
    {
      "cell_type": "code",
      "execution_count": null,
      "id": "87585ca3-a5f7-4155-822d-bafcc3be3d5c",
      "metadata": {
        "id": "87585ca3-a5f7-4155-822d-bafcc3be3d5c"
      },
      "outputs": [],
      "source": [
        "def euclidean_dist(x1, x2):\n",
        "    # your code goes here:\n",
        "    \n",
        "    return(np.sqrt(np.sum((x1 - x2)**2)))"
      ]
    },
    {
      "cell_type": "code",
      "execution_count": null,
      "id": "f56f6ba5-944e-4109-b423-7dec4890036a",
      "metadata": {
        "id": "f56f6ba5-944e-4109-b423-7dec4890036a"
      },
      "outputs": [],
      "source": [
        "def knn_predict(K, X_train, y_train, X_test):\n",
        "  # your code goes here:\n",
        "  \n",
        "  y_pred = []\n",
        "  \n",
        "  for test in X_test:\n",
        "    \n",
        "    distances = [euclidean_dist(test,train) for train in X_train]\n",
        "\n",
        "    neighbors = [True if i in sorted(distances)[:K] else False for i in distances]\n",
        "\n",
        "    prob_label_1 = y_train[neighbors].mean()\n",
        "\n",
        "    y_pred.append(1 if prob_label_1 > 0.5 else 0)\n",
        "      \n",
        "  return np.array(y_pred)"
      ]
    },
    {
      "cell_type": "markdown",
      "id": "1443e168-3fec-40a9-84e5-a5bb3e03352d",
      "metadata": {
        "id": "1443e168-3fec-40a9-84e5-a5bb3e03352d"
      },
      "source": [
        "### Select the optimal $K$ by plotting the F1 score in the validation set at different values of $K$"
      ]
    },
    {
      "cell_type": "markdown",
      "id": "17ec49e0-84eb-41e5-a6d3-b124520f2aa6",
      "metadata": {
        "id": "17ec49e0-84eb-41e5-a6d3-b124520f2aa6"
      },
      "source": [
        "First create a function that calculates the F1-score"
      ]
    },
    {
      "cell_type": "code",
      "execution_count": null,
      "id": "6179ed96-a064-4c7b-8f6b-aa11425da940",
      "metadata": {
        "id": "6179ed96-a064-4c7b-8f6b-aa11425da940"
      },
      "outputs": [],
      "source": [
        "def calculate_f1_score(y_true, y_pred):\n",
        "    # your code goes here:\n",
        "    \n",
        "    TP = np.logical_and(y_pred == 1,np.array(y_true) == 1).sum()\n",
        "    FP = np.logical_and(y_pred == 1,np.array(y_true) == 0).sum()\n",
        "    FN = np.logical_and(y_pred == 0,np.array(y_true) == 1).sum()\n",
        "    TN = np.logical_and(y_pred == 0,np.array(y_true) == 0).sum()\n",
        "\n",
        "    return TP / (TP + 0.5*(FP + FN))"
      ]
    },
    {
      "cell_type": "markdown",
      "id": "d6df1af4-5361-4cb3-baaa-23ae6470c0e2",
      "metadata": {
        "id": "d6df1af4-5361-4cb3-baaa-23ae6470c0e2"
      },
      "source": [
        "Generate the plot and select the optimal $K$"
      ]
    },
    {
      "cell_type": "code",
      "execution_count": null,
      "id": "41ae15c8-b904-4383-92a1-616bd0f3b4bf",
      "metadata": {
        "id": "41ae15c8-b904-4383-92a1-616bd0f3b4bf",
        "colab": {
          "base_uri": "https://localhost:8080/",
          "height": 542
        },
        "outputId": "f4a15a10-6106-441a-d1dd-5a1b9a18d072"
      },
      "outputs": [
        {
          "output_type": "display_data",
          "data": {
            "text/plain": [
              "<Figure size 1200x600 with 1 Axes>"
            ],
            "image/png": "[encoded data removed]"
          },
          "metadata": {}
        }
      ],
      "source": [
        "# your code goes here:\n",
        "Ks = range(1,31+1,2)\n",
        "f1_scores = []\n",
        "\n",
        "for K in Ks:\n",
        "  y_pred = knn_predict(K, X_train, y_train, X_validation)\n",
        "  f1_scores.append( calculate_f1_score(y_validation, y_pred) )\n",
        "\n",
        "fig = plt.figure(figsize=(12,6))\n",
        "sns.lineplot(x = Ks, y = f1_scores, label = 'validation')\n",
        "plt.xlabel(\"K\")\n",
        "plt.ylabel(\"F1-score\")\n",
        "plt.legend()\n",
        "plt.show()"
      ]
    },
    {
      "cell_type": "markdown",
      "id": "08575674-1b72-4c31-90c2-8e3891af6762",
      "metadata": {
        "id": "08575674-1b72-4c31-90c2-8e3891af6762"
      },
      "source": [
        "Calculate the test set performance using the optimal $K$"
      ]
    },
    {
      "cell_type": "code",
      "execution_count": null,
      "id": "ff7c6e2a-84a0-42ea-9b7f-b343072355cf",
      "metadata": {
        "id": "ff7c6e2a-84a0-42ea-9b7f-b343072355cf",
        "colab": {
          "base_uri": "https://localhost:8080/"
        },
        "outputId": "8e7c1970-0812-49a9-9434-56a74a135648"
      },
      "outputs": [
        {
          "output_type": "execute_result",
          "data": {
            "text/plain": [
              "0.92"
            ]
          },
          "metadata": {},
          "execution_count": 258
        }
      ],
      "source": [
        "# your code goes here:\n",
        "\n",
        "K = Ks[np.argmax(f1_scores)]\n",
        "\n",
        "y_pred = knn_predict(K, X_train, y_train, X_test)\n",
        "calculate_f1_score(y_test, y_pred)"
      ]
    },
    {
      "cell_type": "code",
      "source": [],
      "metadata": {
        "id": "DHx6LsZTCqeF"
      },
      "id": "DHx6LsZTCqeF",
      "execution_count": null,
      "outputs": []
    }
  ],
  "metadata": {
    "kernelspec": {
      "display_name": "Python 3 (ipykernel)",
      "language": "python",
      "name": "python3"
    },
    "language_info": {
      "codemirror_mode": {
        "name": "ipython",
        "version": 3
      },
      "file_extension": ".py",
      "mimetype": "text/x-python",
      "name": "python",
      "nbconvert_exporter": "python",
      "pygments_lexer": "ipython3",
      "version": "3.9.16"
    },
    "colab": {
      "provenance": []
    }
  },
  "nbformat": 4,
  "nbformat_minor": 5
}